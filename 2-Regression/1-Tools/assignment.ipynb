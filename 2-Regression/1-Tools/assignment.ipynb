{
 "cells": [
  {
   "cell_type": "code",
   "execution_count": 71,
   "source": [
    "import matplotlib.pyplot as plt\n",
    "import numpy as np\n",
    "from sklearn import datasets, linear_model, model_selection"
   ],
   "outputs": [],
   "metadata": {}
  },
  {
   "cell_type": "markdown",
   "source": [
    "# Linnerrud dataset"
   ],
   "metadata": {}
  },
  {
   "cell_type": "code",
   "execution_count": 72,
   "source": [
    "X, y = datasets.load_linnerud(return_X_y=True)"
   ],
   "outputs": [],
   "metadata": {}
  },
  {
   "cell_type": "code",
   "execution_count": 73,
   "source": [
    "print(X.shape)\n",
    "print(X[0])"
   ],
   "outputs": [
    {
     "output_type": "stream",
     "name": "stdout",
     "text": [
      "(20, 3)\n",
      "[  5. 162.  60.]\n"
     ]
    }
   ],
   "metadata": {}
  },
  {
   "cell_type": "code",
   "execution_count": 74,
   "source": [
    "print(y.shape)\n",
    "print(y[0])"
   ],
   "outputs": [
    {
     "output_type": "stream",
     "name": "stdout",
     "text": [
      "(20, 3)\n",
      "[191.  36.  50.]\n"
     ]
    }
   ],
   "metadata": {}
  },
  {
   "cell_type": "code",
   "execution_count": 75,
   "source": [
    "Xi = X[:, np.newaxis, 1]"
   ],
   "outputs": [],
   "metadata": {}
  },
  {
   "cell_type": "code",
   "execution_count": 76,
   "source": [
    "yi = y[:, np.newaxis, 1]"
   ],
   "outputs": [],
   "metadata": {}
  },
  {
   "cell_type": "code",
   "execution_count": 77,
   "source": [
    "Xi"
   ],
   "outputs": [
    {
     "output_type": "execute_result",
     "data": {
      "text/plain": [
       "array([[162.],\n",
       "       [110.],\n",
       "       [101.],\n",
       "       [105.],\n",
       "       [155.],\n",
       "       [101.],\n",
       "       [101.],\n",
       "       [125.],\n",
       "       [200.],\n",
       "       [251.],\n",
       "       [120.],\n",
       "       [210.],\n",
       "       [215.],\n",
       "       [ 50.],\n",
       "       [ 70.],\n",
       "       [210.],\n",
       "       [ 60.],\n",
       "       [230.],\n",
       "       [225.],\n",
       "       [110.]])"
      ]
     },
     "metadata": {},
     "execution_count": 77
    }
   ],
   "metadata": {}
  },
  {
   "cell_type": "code",
   "execution_count": 78,
   "source": [
    "X_train, X_test, y_train, y_test = model_selection.train_test_split(Xi, yi, test_size=0.33)\n"
   ],
   "outputs": [],
   "metadata": {}
  },
  {
   "cell_type": "code",
   "execution_count": 79,
   "source": [
    "print(X_train)\n",
    "print(y_train)"
   ],
   "outputs": [
    {
     "output_type": "stream",
     "name": "stdout",
     "text": [
      "[[215.]\n",
      " [210.]\n",
      " [155.]\n",
      " [101.]\n",
      " [125.]\n",
      " [120.]\n",
      " [101.]\n",
      " [ 60.]\n",
      " [110.]\n",
      " [251.]\n",
      " [ 70.]\n",
      " [105.]\n",
      " [110.]]\n",
      "[[34.]\n",
      " [33.]\n",
      " [35.]\n",
      " [36.]\n",
      " [34.]\n",
      " [34.]\n",
      " [38.]\n",
      " [37.]\n",
      " [33.]\n",
      " [33.]\n",
      " [36.]\n",
      " [35.]\n",
      " [37.]]\n"
     ]
    }
   ],
   "metadata": {}
  },
  {
   "cell_type": "code",
   "execution_count": 80,
   "source": [
    "model = linear_model.LinearRegression()\n",
    "model.fit(X_train, y_train)"
   ],
   "outputs": [
    {
     "output_type": "execute_result",
     "data": {
      "text/plain": [
       "LinearRegression()"
      ]
     },
     "metadata": {},
     "execution_count": 80
    }
   ],
   "metadata": {}
  },
  {
   "cell_type": "code",
   "execution_count": 81,
   "source": [
    "y_pred = model.predict(X_test)"
   ],
   "outputs": [],
   "metadata": {}
  },
  {
   "cell_type": "code",
   "execution_count": 82,
   "source": [
    "plt.scatter(X_test, y_test,  color='black')\n",
    "plt.plot(X_test, y_pred, color='blue', linewidth=3)\n",
    "plt.xlabel('Waist')\n",
    "plt.ylabel('Situps')\n",
    "plt.title('A Graph Plot Showing Situps Against Waist')\n",
    "plt.show()"
   ],
   "outputs": [
    {
     "output_type": "display_data",
     "data": {
      "image/png": "[encoded data removed]",
      "text/plain": [
       "<Figure size 432x288 with 1 Axes>"
      ]
     },
     "metadata": {
      "needs_background": "light"
     }
    }
   ],
   "metadata": {}
  },
  {
   "cell_type": "code",
   "execution_count": null,
   "source": [],
   "outputs": [],
   "metadata": {}
  }
 ],
 "metadata": {
  "orig_nbformat": 4,
  "kernelspec": {
   "name": "python3",
   "display_name": "Python 3 (ipykernel)",
   "language": "python"
  },
  "language_info": {
   "name": "python",
   "version": "3.8.8",
   "mimetype": "text/x-python",
   "codemirror_mode": {
    "name": "ipython",
    "version": 3
   },
   "pygments_lexer": "ipython3",
   "nbconvert_exporter": "python",
   "file_extension": ".py"
  }
 },
 "nbformat": 4,
 "nbformat_minor": 2
}